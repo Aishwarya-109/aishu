{
  "nbformat": 4,
  "nbformat_minor": 0,
  "metadata": {
    "colab": {
      "provenance": [],
      "authorship_tag": "ABX9TyNyTUFtqdYGRxSnPBwxzXSH",
      "include_colab_link": true
    },
    "kernelspec": {
      "name": "python3",
      "display_name": "Python 3"
    },
    "language_info": {
      "name": "python"
    }
  },
  "cells": [
    {
      "cell_type": "markdown",
      "metadata": {
        "id": "view-in-github",
        "colab_type": "text"
      },
      "source": [
        "<a href=\"https://colab.research.google.com/github/Aishwarya-109/aishu/blob/main/Untitled1.ipynb\" target=\"_parent\"><img src=\"https://colab.research.google.com/assets/colab-badge.svg\" alt=\"Open In Colab\"/></a>"
      ]
    },
    {
      "cell_type": "code",
      "execution_count": null,
      "metadata": {
        "id": "4e47OhJZdA8Z"
      },
      "outputs": [],
      "source": [
        "from googletrans import Translator, LANGUAGES\n",
        "\n",
        "def translate_text(text, target_language):\n",
        "    translator = Translator()\n",
        "    translation = translator.translate(text, dest=target_language)\n",
        "\n",
        "    print(f\"\\nDetected Language: {LANGUAGES[translation.src]}\")\n",
        "    print(f\"Translated ({LANGUAGES[target_language]}): {translation.text}\")\n",
        "\n",
        "    return translation.text\n",
        "\n",
        "if __name__ == \"__main__\":\n",
        "    print(\"Multi-Language Translator\")\n",
        "    print(\"Available Languages: \", \", \".join(LANGUAGES.keys()))\n",
        "\n",
        "    text = input(\"\\nEnter text to translate: \")\n",
        "    target_lang = input(\"Enter target language code (e.g., 'es' for Spanish, 'fr' for French): \").lower()\n",
        "\n",
        "    if target_lang in LANGUAGES:\n",
        "        translated_text = translate_text(text, target_lang)\n",
        "    else:\n",
        "        print(\"Invalid language code! Please try again.\")\n"
      ]
    },
    {
      "cell_type": "code",
      "source": [],
      "metadata": {
        "id": "XiKwaZXgdD-V"
      },
      "execution_count": null,
      "outputs": []
    }
  ]
}